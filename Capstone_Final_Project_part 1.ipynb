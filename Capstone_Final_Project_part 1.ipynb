{
 "cells": [
  {
   "cell_type": "markdown",
   "metadata": {},
   "source": [
    "# Searching for Indian Restaurants in NYC"
   ]
  },
  {
   "cell_type": "markdown",
   "metadata": {},
   "source": [
    "## 1. Introduction"
   ]
  },
  {
   "cell_type": "markdown",
   "metadata": {},
   "source": [
    "### 1.1 Abstract"
   ]
  },
  {
   "cell_type": "markdown",
   "metadata": {},
   "source": [
    "New york is the most populous city in United States. NYC is dense, diversified city with eight and half million population coming from different cultures and societies. It has been described as the cultural, financial, and media capital of the world. Due of its business friendly environment, it provides lot of business opporutinites. It has been significantly influencing lot of immigirants to move to this city. Since lot of people from all around the world move there, this city serves differenet kind of cuisines. There are many cusinies on the basis of cooking style, ingredients, dishes and techniques. While visiting to new city, travellers might find it difficult to search best cuisine of their choice. In this project, I will be catering to the problem of finding Indian restaurants in NYC. Project will also help to find best Indian cuisine near them and sort them according to ratings and likes. "
   ]
  },
  {
   "cell_type": "markdown",
   "metadata": {},
   "source": [
    "### 1.2 Business Problem"
   ]
  },
  {
   "cell_type": "markdown",
   "metadata": {},
   "source": [
    "In this project , we will try to find answers of following questions for Indian Restauarnts:\n",
    "- if someone wants to open new restaurants in the city, which is the best location?\n",
    "- who are the competitors and what are their rating?\n",
    "- which area provides max no. of Indian cuisine ?\n",
    "- which restaurant is mostly liked or highly recommened?\n",
    "- where can one find the best Indian food in the nearby area?"
   ]
  },
  {
   "cell_type": "markdown",
   "metadata": {},
   "source": [
    "For this we will determine focus upon market places, competitors, population, food preferences, locality .  We will also focus upon number of restauarants present per Neighborhood as well as per Borough. This will help to understand the locality and competition already . This will also help travellers an easy apporach to find their cuisine according to the location."
   ]
  },
  {
   "cell_type": "markdown",
   "metadata": {},
   "source": [
    "## 2. Data Description"
   ]
  },
  {
   "cell_type": "markdown",
   "metadata": {},
   "source": [
    "### 2.1 Data"
   ]
  },
  {
   "cell_type": "markdown",
   "metadata": {},
   "source": [
    "For this project, data required for analysis includes information about neighborhoods, boroughs which contains latitude, longitude, restuarant details about ratings and tips. Data sources included for project include:\n",
    " - NYC data containing the neighborhoods and boroughs, latitudes, and longitudes will be obtained from the data source: https://cocl.us/new_york_dataset\n",
    " - Data related to restarauant details (location, ratings, likes) will be collected from the data source: Foursqaure"
   ]
  },
  {
   "cell_type": "markdown",
   "metadata": {},
   "source": [
    "### 2.2 How Data will be used to solve problem?"
   ]
  },
  {
   "cell_type": "markdown",
   "metadata": {},
   "source": [
    "Firstly, data will be collected to determine information abour all restauarants presnet in NYC. This includs information about location of all restauarants in 5 Borough and 306 neighborhoods of new york city. After this, data will be cleaned to give list of only Indian restauarants present in each Borough and Neighorhoods. The venues will be filtered according to their ratings and preferences. Data visualization using Folium Maps will give clear idea about the top restaurants present in the nearby area."
   ]
  },
  {
   "cell_type": "code",
   "execution_count": null,
   "metadata": {},
   "outputs": [],
   "source": []
  },
  {
   "cell_type": "code",
   "execution_count": null,
   "metadata": {},
   "outputs": [],
   "source": []
  }
 ],
 "metadata": {
  "kernelspec": {
   "display_name": "Python 3",
   "language": "python",
   "name": "python3"
  },
  "language_info": {
   "codemirror_mode": {
    "name": "ipython",
    "version": 3
   },
   "file_extension": ".py",
   "mimetype": "text/x-python",
   "name": "python",
   "nbconvert_exporter": "python",
   "pygments_lexer": "ipython3",
   "version": "3.7.4"
  }
 },
 "nbformat": 4,
 "nbformat_minor": 2
}
